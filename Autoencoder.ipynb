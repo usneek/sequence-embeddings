{
  "nbformat": 4,
  "nbformat_minor": 0,
  "metadata": {
    "colab": {
      "name": "Autoencoder.ipynb",
      "provenance": [],
      "collapsed_sections": [],
      "mount_file_id": "1MxMCPq4gXw4_0a7_j86hvovj3L4ec7u0",
      "authorship_tag": "ABX9TyNUejoL1O21zi1DnSjftWLX",
      "include_colab_link": true
    },
    "kernelspec": {
      "name": "python3",
      "display_name": "Python 3"
    },
    "language_info": {
      "name": "python"
    }
  },
  "cells": [
    {
      "cell_type": "markdown",
      "metadata": {
        "id": "view-in-github",
        "colab_type": "text"
      },
      "source": [
        "<a href=\"https://colab.research.google.com/github/usneek/sequence-embeddings/blob/main/Autoencoder.ipynb\" target=\"_parent\"><img src=\"https://colab.research.google.com/assets/colab-badge.svg\" alt=\"Open In Colab\"/></a>"
      ]
    },
    {
      "cell_type": "markdown",
      "metadata": {
        "id": "4hiwZ9pOoqbp"
      },
      "source": [
        "This code file has used Autoencoder to generate sequence embeddings. Encoder part of an autoencoder extracts features which can be used as embeddings"
      ]
    },
    {
      "cell_type": "markdown",
      "metadata": {
        "id": "9AgCLFz0vBQY"
      },
      "source": [
        "# **Importing**"
      ]
    },
    {
      "cell_type": "code",
      "metadata": {
        "id": "O5Mwau0nLYuz"
      },
      "source": [
        "import numpy as np\n",
        "import pandas as pd\n",
        "import tensorflow as tf\n",
        "import sklearn\n",
        "from sklearn.preprocessing import LabelEncoder\n",
        "from sklearn.model_selection import train_test_split\n",
        "from sklearn.metrics import accuracy_score\n",
        "from sklearn.metrics import f1_score\n",
        "from tensorflow.keras.models import Sequential\n",
        "from tensorflow.keras.layers import Dense\n",
        "from tensorflow.keras.layers import LSTM\n",
        "from tensorflow.keras.layers import Input\n",
        "from tensorflow.keras.layers import Bidirectional\n",
        "from tensorflow.keras.layers import RepeatVector\n",
        "from tensorflow.keras.layers import Dropout\n",
        "from tensorflow.keras.layers import Activation\n",
        "from tensorflow.keras.layers import Flatten\n",
        "from tensorflow.keras.layers import Embedding\n",
        "from tensorflow.keras.preprocessing import sequence"
      ],
      "execution_count": null,
      "outputs": []
    },
    {
      "cell_type": "markdown",
      "metadata": {
        "id": "ROWOJfCTvQhl"
      },
      "source": [
        "# **Data Preprocessing**"
      ]
    },
    {
      "cell_type": "markdown",
      "metadata": {
        "id": "LcWp5z1NvmsW"
      },
      "source": [
        "The steps required will be:-\n",
        "\n",
        "1. To convert date of logs in YYYY-MM-DD fromat so they can be sorted in chronological order.\n",
        "2.Next step is to fill empty cells in the column ModuleCode with Assessment Code\n",
        "3.Then for each user we will create list of activities they attempted in order of date i.e. the sequence of activities.\n",
        "4.Then we will rwmove those columns which don't have complete information about them i.e. if they passed or failed the course.\n",
        "5.Then we will use LabelEncoder() to label the output values.\n",
        "6.Finally we split the data into train, validation and test set in 3:1:1"
      ]
    },
    {
      "cell_type": "code",
      "metadata": {
        "id": "tV_d0femM9_8"
      },
      "source": [
        "corpus=pd.read_csv(\"drive/MyDrive/Data/course_usage_anon.csv\")\n",
        "corpus['AttemptDate']=pd.to_datetime(corpus['AttemptDate'])\n",
        "corpus=corpus.sort_values(by=\"AttemptDate\")\n",
        "corpus['ModuleCode'] = corpus['ModuleCode'].fillna(corpus['AssessmentCode'])"
      ],
      "execution_count": null,
      "outputs": []
    },
    {
      "cell_type": "code",
      "metadata": {
        "id": "y-zVHvoANKkk"
      },
      "source": [
        "x1=corpus.groupby(by=\"UserID\")[\"ModuleCode\"].apply(list)\n",
        "x1=x1.reset_index(name=\"sequence\")\n",
        "x1.columns=[\"id\",\"sequence\"]"
      ],
      "execution_count": null,
      "outputs": []
    },
    {
      "cell_type": "code",
      "metadata": {
        "id": "zHXVqgNuNW1j"
      },
      "source": [
        "corpus=corpus.dropna(subset=[\"PassFail\"])\n",
        "x2=corpus.groupby(by=\"UserID\")[\"PassFail\"].mean()\n",
        "x2=x2.reset_index(name=\"PassFail\")\n",
        "x2.columns=[\"id\",\"PassFail\"]"
      ],
      "execution_count": null,
      "outputs": []
    },
    {
      "cell_type": "code",
      "metadata": {
        "id": "CUkmBHMzNc5R"
      },
      "source": [
        "corpus=x1.join(x2,rsuffix='id',how=\"inner\")"
      ],
      "execution_count": null,
      "outputs": []
    },
    {
      "cell_type": "code",
      "metadata": {
        "id": "t0pR8fjnQVyN"
      },
      "source": [
        "x=corpus[\"sequence\"]\n",
        "y = corpus[\"PassFail\"]\n",
        "encoder = LabelEncoder()\n",
        "encoder.fit(y)\n",
        "encoded_y = encoder.transform(y)\n",
        "x_train,x_test,y_train,y_test=train_test_split(x,encoded_y,test_size=0.2,random_state=0)\n",
        "x_train,x_val,y_train,y_val=train_test_split(x_train,y_train,test_size=0.2,random_state=0)"
      ],
      "execution_count": null,
      "outputs": []
    },
    {
      "cell_type": "markdown",
      "metadata": {
        "id": "4Bgcn7XqwWOU"
      },
      "source": [
        "# **Creating embeddings using Autoencoders**"
      ]
    },
    {
      "cell_type": "markdown",
      "metadata": {
        "id": "ZeghvqWOxBmr"
      },
      "source": [
        "Tokenizer is used to convert our sequnence into numerical values which we can use further to input in encoder.\n",
        "\n",
        "The maximum different words in the sequence are 25 and we will pad the sequences to a fixed length of 30."
      ]
    },
    {
      "cell_type": "code",
      "metadata": {
        "id": "Rs-nm2IYNiYG"
      },
      "source": [
        "tokenizer = tf.keras.preprocessing.text.Tokenizer(num_words =25, split=',')\n",
        "tokenizer.fit_on_texts(x_train)\n",
        "seqs = tokenizer.texts_to_sequences(x_train)\n",
        "pad_seqs = tf.keras.preprocessing.sequence.pad_sequences(seqs, 30)\n",
        "seqs_val= tokenizer.texts_to_sequences(x_val)\n",
        "pad_seqs_val = tf.keras.preprocessing.sequence.pad_sequences(seqs_val, 30)"
      ],
      "execution_count": null,
      "outputs": []
    },
    {
      "cell_type": "markdown",
      "metadata": {
        "id": "bW-Uhqw-SCQ5"
      },
      "source": [
        "In the autoencoder, encoder part has Embedding layer followed by Bidirectional LSTM\n",
        "\n",
        "The decoder part has unidirectional LSTM layer followed by softmax to reconstruct the output."
      ]
    },
    {
      "cell_type": "code",
      "metadata": {
        "id": "sv49nf8EqPrZ"
      },
      "source": [
        "encoder_input=Input(shape=(30,))\n",
        "encoder_input_2=Embedding(25,30,input_length = 30,mask_zero=False)(encoder_input)\n",
        "encoder_output=Bidirectional(LSTM(3,activation=\"relu\"))(encoder_input_2)\n",
        "encoder_model = tf.keras.Model(encoder_input, encoder_output)\n",
        "decoded = RepeatVector(30)(encoder_output)\n",
        "decoder_output=LSTM(6,return_sequences=True)(decoded)\n",
        "decoder_output_2=Dense(25,activation=\"softmax\")(decoder_output)\n",
        "model=tf.keras.Model(encoder_input,decoder_output_2)\n",
        "model.compile(loss='sparse_categorical_crossentropy', optimizer='adam', metrics=['accuracy'])"
      ],
      "execution_count": null,
      "outputs": []
    },
    {
      "cell_type": "markdown",
      "metadata": {
        "id": "Mj5gR1fIh-xC"
      },
      "source": [
        "**Exceuting autoencoder**"
      ]
    },
    {
      "cell_type": "code",
      "metadata": {
        "colab": {
          "base_uri": "https://localhost:8080/"
        },
        "id": "c1PNH-u2zGp5",
        "outputId": "4e000cc5-0337-40c5-f0f3-42830c7f9ed1"
      },
      "source": [
        "from tensorflow.keras.callbacks import ModelCheckpoint\n",
        "model_checkpoint_callback = ModelCheckpoint(filepath='drive/MyDrive/Data/Autoencoder/model.{epoch:02d}-{val_loss:.2f}.h5',\n",
        "                                            save_weights_only = True,\n",
        "                                            period = 1,\n",
        "                                            verbose = 1,\n",
        "                                            save_best_only=False)\n",
        "history=model.fit(pad_seqs, pad_seqs , validation_data=(pad_seqs_val,pad_seqs_val),batch_size=128, epochs=100,callbacks=[model_checkpoint_callback])"
      ],
      "execution_count": null,
      "outputs": [
        {
          "output_type": "stream",
          "text": [
            "WARNING:tensorflow:`period` argument is deprecated. Please use `save_freq` to specify the frequency in number of batches seen.\n",
            "Epoch 1/100\n",
            "24/24 [==============================] - 6s 73ms/step - loss: 3.1978 - accuracy: 0.4265 - val_loss: 3.1680 - val_accuracy: 0.5131\n",
            "\n",
            "Epoch 00001: saving model to drive/MyDrive/Data/Autoencoder/model.01-3.17.h5\n",
            "Epoch 2/100\n",
            "24/24 [==============================] - 1s 41ms/step - loss: 3.1193 - accuracy: 0.5186 - val_loss: 3.0428 - val_accuracy: 0.5185\n",
            "\n",
            "Epoch 00002: saving model to drive/MyDrive/Data/Autoencoder/model.02-3.04.h5\n",
            "Epoch 3/100\n",
            "24/24 [==============================] - 1s 43ms/step - loss: 2.8978 - accuracy: 0.5185 - val_loss: 2.6759 - val_accuracy: 0.5219\n",
            "\n",
            "Epoch 00003: saving model to drive/MyDrive/Data/Autoencoder/model.03-2.68.h5\n",
            "Epoch 4/100\n",
            "24/24 [==============================] - 1s 44ms/step - loss: 2.4802 - accuracy: 0.5190 - val_loss: 2.3374 - val_accuracy: 0.5267\n",
            "\n",
            "Epoch 00004: saving model to drive/MyDrive/Data/Autoencoder/model.04-2.34.h5\n",
            "Epoch 5/100\n",
            "24/24 [==============================] - 1s 42ms/step - loss: 2.2601 - accuracy: 0.5215 - val_loss: 2.1725 - val_accuracy: 0.5263\n",
            "\n",
            "Epoch 00005: saving model to drive/MyDrive/Data/Autoencoder/model.05-2.17.h5\n",
            "Epoch 6/100\n",
            "24/24 [==============================] - 1s 41ms/step - loss: 2.1208 - accuracy: 0.5213 - val_loss: 2.0577 - val_accuracy: 0.5254\n",
            "\n",
            "Epoch 00006: saving model to drive/MyDrive/Data/Autoencoder/model.06-2.06.h5\n",
            "Epoch 7/100\n",
            "24/24 [==============================] - 1s 41ms/step - loss: 2.0307 - accuracy: 0.5212 - val_loss: 1.9813 - val_accuracy: 0.5248\n",
            "\n",
            "Epoch 00007: saving model to drive/MyDrive/Data/Autoencoder/model.07-1.98.h5\n",
            "Epoch 8/100\n",
            "24/24 [==============================] - 1s 40ms/step - loss: 1.9667 - accuracy: 0.5240 - val_loss: 1.9323 - val_accuracy: 0.5281\n",
            "\n",
            "Epoch 00008: saving model to drive/MyDrive/Data/Autoencoder/model.08-1.93.h5\n",
            "Epoch 9/100\n",
            "24/24 [==============================] - 1s 41ms/step - loss: 1.9250 - accuracy: 0.5256 - val_loss: 1.9024 - val_accuracy: 0.5281\n",
            "\n",
            "Epoch 00009: saving model to drive/MyDrive/Data/Autoencoder/model.09-1.90.h5\n",
            "Epoch 10/100\n",
            "24/24 [==============================] - 1s 42ms/step - loss: 1.9000 - accuracy: 0.5274 - val_loss: 1.8948 - val_accuracy: 0.5298\n",
            "\n",
            "Epoch 00010: saving model to drive/MyDrive/Data/Autoencoder/model.10-1.89.h5\n",
            "Epoch 11/100\n",
            "24/24 [==============================] - 1s 41ms/step - loss: 1.8870 - accuracy: 0.5269 - val_loss: 1.8697 - val_accuracy: 0.5284\n",
            "\n",
            "Epoch 00011: saving model to drive/MyDrive/Data/Autoencoder/model.11-1.87.h5\n",
            "Epoch 12/100\n",
            "24/24 [==============================] - 1s 41ms/step - loss: 1.8710 - accuracy: 0.5289 - val_loss: 1.8701 - val_accuracy: 0.5308\n",
            "\n",
            "Epoch 00012: saving model to drive/MyDrive/Data/Autoencoder/model.12-1.87.h5\n",
            "Epoch 13/100\n",
            "24/24 [==============================] - 1s 42ms/step - loss: 1.9127 - accuracy: 0.5188 - val_loss: 1.9821 - val_accuracy: 0.5019\n",
            "\n",
            "Epoch 00013: saving model to drive/MyDrive/Data/Autoencoder/model.13-1.98.h5\n",
            "Epoch 14/100\n",
            "24/24 [==============================] - 1s 41ms/step - loss: 1.9160 - accuracy: 0.5134 - val_loss: 1.8724 - val_accuracy: 0.5232\n",
            "\n",
            "Epoch 00014: saving model to drive/MyDrive/Data/Autoencoder/model.14-1.87.h5\n",
            "Epoch 15/100\n",
            "24/24 [==============================] - 1s 42ms/step - loss: 1.8674 - accuracy: 0.5208 - val_loss: 1.8513 - val_accuracy: 0.5209\n",
            "\n",
            "Epoch 00015: saving model to drive/MyDrive/Data/Autoencoder/model.15-1.85.h5\n",
            "Epoch 16/100\n",
            "24/24 [==============================] - 1s 41ms/step - loss: 1.8563 - accuracy: 0.5194 - val_loss: 1.8389 - val_accuracy: 0.5249\n",
            "\n",
            "Epoch 00016: saving model to drive/MyDrive/Data/Autoencoder/model.16-1.84.h5\n",
            "Epoch 17/100\n",
            "24/24 [==============================] - 1s 43ms/step - loss: 1.8433 - accuracy: 0.5214 - val_loss: 1.8317 - val_accuracy: 0.5252\n",
            "\n",
            "Epoch 00017: saving model to drive/MyDrive/Data/Autoencoder/model.17-1.83.h5\n",
            "Epoch 18/100\n",
            "24/24 [==============================] - 1s 41ms/step - loss: 1.8353 - accuracy: 0.5231 - val_loss: 1.8233 - val_accuracy: 0.5265\n",
            "\n",
            "Epoch 00018: saving model to drive/MyDrive/Data/Autoencoder/model.18-1.82.h5\n",
            "Epoch 19/100\n",
            "24/24 [==============================] - 1s 42ms/step - loss: 1.8216 - accuracy: 0.5250 - val_loss: 1.8096 - val_accuracy: 0.5289\n",
            "\n",
            "Epoch 00019: saving model to drive/MyDrive/Data/Autoencoder/model.19-1.81.h5\n",
            "Epoch 20/100\n",
            "24/24 [==============================] - 1s 40ms/step - loss: 1.8125 - accuracy: 0.5272 - val_loss: 1.7985 - val_accuracy: 0.5297\n",
            "\n",
            "Epoch 00020: saving model to drive/MyDrive/Data/Autoencoder/model.20-1.80.h5\n",
            "Epoch 21/100\n",
            "24/24 [==============================] - 1s 42ms/step - loss: 1.8007 - accuracy: 0.5287 - val_loss: 1.7863 - val_accuracy: 0.5301\n",
            "\n",
            "Epoch 00021: saving model to drive/MyDrive/Data/Autoencoder/model.21-1.79.h5\n",
            "Epoch 22/100\n",
            "24/24 [==============================] - 1s 41ms/step - loss: 1.7894 - accuracy: 0.5284 - val_loss: 1.7745 - val_accuracy: 0.5307\n",
            "\n",
            "Epoch 00022: saving model to drive/MyDrive/Data/Autoencoder/model.22-1.77.h5\n",
            "Epoch 23/100\n",
            "24/24 [==============================] - 1s 42ms/step - loss: 1.7764 - accuracy: 0.5284 - val_loss: 1.7611 - val_accuracy: 0.5303\n",
            "\n",
            "Epoch 00023: saving model to drive/MyDrive/Data/Autoencoder/model.23-1.76.h5\n",
            "Epoch 24/100\n",
            "24/24 [==============================] - 1s 42ms/step - loss: 1.7630 - accuracy: 0.5288 - val_loss: 1.7490 - val_accuracy: 0.5302\n",
            "\n",
            "Epoch 00024: saving model to drive/MyDrive/Data/Autoencoder/model.24-1.75.h5\n",
            "Epoch 25/100\n",
            "24/24 [==============================] - 1s 41ms/step - loss: 1.7512 - accuracy: 0.5293 - val_loss: 1.7391 - val_accuracy: 0.5320\n",
            "\n",
            "Epoch 00025: saving model to drive/MyDrive/Data/Autoencoder/model.25-1.74.h5\n",
            "Epoch 26/100\n",
            "24/24 [==============================] - 1s 43ms/step - loss: 1.7407 - accuracy: 0.5301 - val_loss: 1.7273 - val_accuracy: 0.5343\n",
            "\n",
            "Epoch 00026: saving model to drive/MyDrive/Data/Autoencoder/model.26-1.73.h5\n",
            "Epoch 27/100\n",
            "24/24 [==============================] - 1s 42ms/step - loss: 1.7286 - accuracy: 0.5309 - val_loss: 1.7158 - val_accuracy: 0.5338\n",
            "\n",
            "Epoch 00027: saving model to drive/MyDrive/Data/Autoencoder/model.27-1.72.h5\n",
            "Epoch 28/100\n",
            "24/24 [==============================] - 1s 43ms/step - loss: 1.7171 - accuracy: 0.5310 - val_loss: 1.7029 - val_accuracy: 0.5334\n",
            "\n",
            "Epoch 00028: saving model to drive/MyDrive/Data/Autoencoder/model.28-1.70.h5\n",
            "Epoch 29/100\n",
            "24/24 [==============================] - 1s 44ms/step - loss: 1.7076 - accuracy: 0.5310 - val_loss: 1.6921 - val_accuracy: 0.5337\n",
            "\n",
            "Epoch 00029: saving model to drive/MyDrive/Data/Autoencoder/model.29-1.69.h5\n",
            "Epoch 30/100\n",
            "24/24 [==============================] - 1s 43ms/step - loss: 1.6957 - accuracy: 0.5311 - val_loss: 1.6827 - val_accuracy: 0.5342\n",
            "\n",
            "Epoch 00030: saving model to drive/MyDrive/Data/Autoencoder/model.30-1.68.h5\n",
            "Epoch 31/100\n",
            "24/24 [==============================] - 1s 44ms/step - loss: 1.6843 - accuracy: 0.5318 - val_loss: 1.6699 - val_accuracy: 0.5353\n",
            "\n",
            "Epoch 00031: saving model to drive/MyDrive/Data/Autoencoder/model.31-1.67.h5\n",
            "Epoch 32/100\n",
            "24/24 [==============================] - 1s 44ms/step - loss: 1.6731 - accuracy: 0.5329 - val_loss: 1.6580 - val_accuracy: 0.5369\n",
            "\n",
            "Epoch 00032: saving model to drive/MyDrive/Data/Autoencoder/model.32-1.66.h5\n",
            "Epoch 33/100\n",
            "24/24 [==============================] - 1s 43ms/step - loss: 1.6619 - accuracy: 0.5342 - val_loss: 1.6495 - val_accuracy: 0.5379\n",
            "\n",
            "Epoch 00033: saving model to drive/MyDrive/Data/Autoencoder/model.33-1.65.h5\n",
            "Epoch 34/100\n",
            "24/24 [==============================] - 1s 42ms/step - loss: 1.6515 - accuracy: 0.5343 - val_loss: 1.6340 - val_accuracy: 0.5368\n",
            "\n",
            "Epoch 00034: saving model to drive/MyDrive/Data/Autoencoder/model.34-1.63.h5\n",
            "Epoch 35/100\n",
            "24/24 [==============================] - 1s 44ms/step - loss: 1.6377 - accuracy: 0.5347 - val_loss: 1.6224 - val_accuracy: 0.5368\n",
            "\n",
            "Epoch 00035: saving model to drive/MyDrive/Data/Autoencoder/model.35-1.62.h5\n",
            "Epoch 36/100\n",
            "24/24 [==============================] - 1s 42ms/step - loss: 1.6268 - accuracy: 0.5356 - val_loss: 1.6118 - val_accuracy: 0.5383\n",
            "\n",
            "Epoch 00036: saving model to drive/MyDrive/Data/Autoencoder/model.36-1.61.h5\n",
            "Epoch 37/100\n",
            "24/24 [==============================] - 1s 42ms/step - loss: 1.6178 - accuracy: 0.5367 - val_loss: 1.6027 - val_accuracy: 0.5391\n",
            "\n",
            "Epoch 00037: saving model to drive/MyDrive/Data/Autoencoder/model.37-1.60.h5\n",
            "Epoch 38/100\n",
            "24/24 [==============================] - 1s 44ms/step - loss: 1.6098 - accuracy: 0.5372 - val_loss: 1.5987 - val_accuracy: 0.5390\n",
            "\n",
            "Epoch 00038: saving model to drive/MyDrive/Data/Autoencoder/model.38-1.60.h5\n",
            "Epoch 39/100\n",
            "24/24 [==============================] - 1s 42ms/step - loss: 1.6011 - accuracy: 0.5379 - val_loss: 1.5845 - val_accuracy: 0.5401\n",
            "\n",
            "Epoch 00039: saving model to drive/MyDrive/Data/Autoencoder/model.39-1.58.h5\n",
            "Epoch 40/100\n",
            "24/24 [==============================] - 1s 43ms/step - loss: 1.5860 - accuracy: 0.5380 - val_loss: 1.5681 - val_accuracy: 0.5414\n",
            "\n",
            "Epoch 00040: saving model to drive/MyDrive/Data/Autoencoder/model.40-1.57.h5\n",
            "Epoch 41/100\n",
            "24/24 [==============================] - 1s 42ms/step - loss: 1.5684 - accuracy: 0.5388 - val_loss: 1.5530 - val_accuracy: 0.5408\n",
            "\n",
            "Epoch 00041: saving model to drive/MyDrive/Data/Autoencoder/model.41-1.55.h5\n",
            "Epoch 42/100\n",
            "24/24 [==============================] - 1s 43ms/step - loss: 1.5558 - accuracy: 0.5398 - val_loss: 1.5388 - val_accuracy: 0.5414\n",
            "\n",
            "Epoch 00042: saving model to drive/MyDrive/Data/Autoencoder/model.42-1.54.h5\n",
            "Epoch 43/100\n",
            "24/24 [==============================] - 1s 42ms/step - loss: 1.5427 - accuracy: 0.5400 - val_loss: 1.5274 - val_accuracy: 0.5424\n",
            "\n",
            "Epoch 00043: saving model to drive/MyDrive/Data/Autoencoder/model.43-1.53.h5\n",
            "Epoch 44/100\n",
            "24/24 [==============================] - 1s 42ms/step - loss: 1.5328 - accuracy: 0.5408 - val_loss: 1.5284 - val_accuracy: 0.5414\n",
            "\n",
            "Epoch 00044: saving model to drive/MyDrive/Data/Autoencoder/model.44-1.53.h5\n",
            "Epoch 45/100\n",
            "24/24 [==============================] - 1s 43ms/step - loss: 1.5268 - accuracy: 0.5412 - val_loss: 1.5151 - val_accuracy: 0.5447\n",
            "\n",
            "Epoch 00045: saving model to drive/MyDrive/Data/Autoencoder/model.45-1.52.h5\n",
            "Epoch 46/100\n",
            "24/24 [==============================] - 1s 42ms/step - loss: 1.5193 - accuracy: 0.5418 - val_loss: 1.5120 - val_accuracy: 0.5460\n",
            "\n",
            "Epoch 00046: saving model to drive/MyDrive/Data/Autoencoder/model.46-1.51.h5\n",
            "Epoch 47/100\n",
            "24/24 [==============================] - 1s 43ms/step - loss: 1.5141 - accuracy: 0.5428 - val_loss: 1.5064 - val_accuracy: 0.5430\n",
            "\n",
            "Epoch 00047: saving model to drive/MyDrive/Data/Autoencoder/model.47-1.51.h5\n",
            "Epoch 48/100\n",
            "24/24 [==============================] - 1s 43ms/step - loss: 1.5058 - accuracy: 0.5429 - val_loss: 1.4915 - val_accuracy: 0.5452\n",
            "\n",
            "Epoch 00048: saving model to drive/MyDrive/Data/Autoencoder/model.48-1.49.h5\n",
            "Epoch 49/100\n",
            "24/24 [==============================] - 1s 43ms/step - loss: 1.4993 - accuracy: 0.5431 - val_loss: 1.4862 - val_accuracy: 0.5455\n",
            "\n",
            "Epoch 00049: saving model to drive/MyDrive/Data/Autoencoder/model.49-1.49.h5\n",
            "Epoch 50/100\n",
            "24/24 [==============================] - 1s 42ms/step - loss: 1.4940 - accuracy: 0.5432 - val_loss: 1.4815 - val_accuracy: 0.5458\n",
            "\n",
            "Epoch 00050: saving model to drive/MyDrive/Data/Autoencoder/model.50-1.48.h5\n",
            "Epoch 51/100\n",
            "24/24 [==============================] - 1s 43ms/step - loss: 1.4894 - accuracy: 0.5438 - val_loss: 1.4768 - val_accuracy: 0.5465\n",
            "\n",
            "Epoch 00051: saving model to drive/MyDrive/Data/Autoencoder/model.51-1.48.h5\n",
            "Epoch 52/100\n",
            "24/24 [==============================] - 1s 43ms/step - loss: 1.4854 - accuracy: 0.5443 - val_loss: 1.4762 - val_accuracy: 0.5469\n",
            "\n",
            "Epoch 00052: saving model to drive/MyDrive/Data/Autoencoder/model.52-1.48.h5\n",
            "Epoch 53/100\n",
            "24/24 [==============================] - 1s 41ms/step - loss: 1.4811 - accuracy: 0.5443 - val_loss: 1.4690 - val_accuracy: 0.5470\n",
            "\n",
            "Epoch 00053: saving model to drive/MyDrive/Data/Autoencoder/model.53-1.47.h5\n",
            "Epoch 54/100\n",
            "24/24 [==============================] - 1s 43ms/step - loss: 1.4784 - accuracy: 0.5448 - val_loss: 1.4669 - val_accuracy: 0.5473\n",
            "\n",
            "Epoch 00054: saving model to drive/MyDrive/Data/Autoencoder/model.54-1.47.h5\n",
            "Epoch 55/100\n",
            "24/24 [==============================] - 1s 43ms/step - loss: 1.4758 - accuracy: 0.5446 - val_loss: 1.4647 - val_accuracy: 0.5475\n",
            "\n",
            "Epoch 00055: saving model to drive/MyDrive/Data/Autoencoder/model.55-1.46.h5\n",
            "Epoch 56/100\n",
            "24/24 [==============================] - 1s 44ms/step - loss: 1.4713 - accuracy: 0.5453 - val_loss: 1.4597 - val_accuracy: 0.5476\n",
            "\n",
            "Epoch 00056: saving model to drive/MyDrive/Data/Autoencoder/model.56-1.46.h5\n",
            "Epoch 57/100\n",
            "24/24 [==============================] - 1s 44ms/step - loss: 1.4678 - accuracy: 0.5456 - val_loss: 1.4561 - val_accuracy: 0.5488\n",
            "\n",
            "Epoch 00057: saving model to drive/MyDrive/Data/Autoencoder/model.57-1.46.h5\n",
            "Epoch 58/100\n",
            "24/24 [==============================] - 1s 44ms/step - loss: 1.4648 - accuracy: 0.5460 - val_loss: 1.4561 - val_accuracy: 0.5494\n",
            "\n",
            "Epoch 00058: saving model to drive/MyDrive/Data/Autoencoder/model.58-1.46.h5\n",
            "Epoch 59/100\n",
            "24/24 [==============================] - 1s 44ms/step - loss: 1.4627 - accuracy: 0.5461 - val_loss: 1.4506 - val_accuracy: 0.5475\n",
            "\n",
            "Epoch 00059: saving model to drive/MyDrive/Data/Autoencoder/model.59-1.45.h5\n",
            "Epoch 60/100\n",
            "24/24 [==============================] - 1s 44ms/step - loss: 1.4592 - accuracy: 0.5465 - val_loss: 1.4470 - val_accuracy: 0.5494\n",
            "\n",
            "Epoch 00060: saving model to drive/MyDrive/Data/Autoencoder/model.60-1.45.h5\n",
            "Epoch 61/100\n",
            "24/24 [==============================] - 1s 42ms/step - loss: 1.4574 - accuracy: 0.5465 - val_loss: 1.4441 - val_accuracy: 0.5495\n",
            "\n",
            "Epoch 00061: saving model to drive/MyDrive/Data/Autoencoder/model.61-1.44.h5\n",
            "Epoch 62/100\n",
            "24/24 [==============================] - 1s 42ms/step - loss: 1.4533 - accuracy: 0.5467 - val_loss: 1.4416 - val_accuracy: 0.5498\n",
            "\n",
            "Epoch 00062: saving model to drive/MyDrive/Data/Autoencoder/model.62-1.44.h5\n",
            "Epoch 63/100\n",
            "24/24 [==============================] - 1s 42ms/step - loss: 1.4510 - accuracy: 0.5473 - val_loss: 1.4416 - val_accuracy: 0.5503\n",
            "\n",
            "Epoch 00063: saving model to drive/MyDrive/Data/Autoencoder/model.63-1.44.h5\n",
            "Epoch 64/100\n",
            "24/24 [==============================] - 1s 43ms/step - loss: 1.4489 - accuracy: 0.5475 - val_loss: 1.4370 - val_accuracy: 0.5502\n",
            "\n",
            "Epoch 00064: saving model to drive/MyDrive/Data/Autoencoder/model.64-1.44.h5\n",
            "Epoch 65/100\n",
            "24/24 [==============================] - 1s 43ms/step - loss: 1.4468 - accuracy: 0.5481 - val_loss: 1.4348 - val_accuracy: 0.5514\n",
            "\n",
            "Epoch 00065: saving model to drive/MyDrive/Data/Autoencoder/model.65-1.43.h5\n",
            "Epoch 66/100\n",
            "24/24 [==============================] - 1s 44ms/step - loss: 1.4463 - accuracy: 0.5485 - val_loss: 1.4373 - val_accuracy: 0.5495\n",
            "\n",
            "Epoch 00066: saving model to drive/MyDrive/Data/Autoencoder/model.66-1.44.h5\n",
            "Epoch 67/100\n",
            "24/24 [==============================] - 1s 43ms/step - loss: 1.4436 - accuracy: 0.5499 - val_loss: 1.4317 - val_accuracy: 0.5547\n",
            "\n",
            "Epoch 00067: saving model to drive/MyDrive/Data/Autoencoder/model.67-1.43.h5\n",
            "Epoch 68/100\n",
            "24/24 [==============================] - 1s 43ms/step - loss: 1.4387 - accuracy: 0.5511 - val_loss: 1.4301 - val_accuracy: 0.5557\n",
            "\n",
            "Epoch 00068: saving model to drive/MyDrive/Data/Autoencoder/model.68-1.43.h5\n",
            "Epoch 69/100\n",
            "24/24 [==============================] - 1s 41ms/step - loss: 1.4363 - accuracy: 0.5520 - val_loss: 1.4267 - val_accuracy: 0.5541\n",
            "\n",
            "Epoch 00069: saving model to drive/MyDrive/Data/Autoencoder/model.69-1.43.h5\n",
            "Epoch 70/100\n",
            "24/24 [==============================] - 1s 41ms/step - loss: 1.4339 - accuracy: 0.5528 - val_loss: 1.4241 - val_accuracy: 0.5551\n",
            "\n",
            "Epoch 00070: saving model to drive/MyDrive/Data/Autoencoder/model.70-1.42.h5\n",
            "Epoch 71/100\n",
            "24/24 [==============================] - 1s 41ms/step - loss: 1.4326 - accuracy: 0.5532 - val_loss: 1.4228 - val_accuracy: 0.5554\n",
            "\n",
            "Epoch 00071: saving model to drive/MyDrive/Data/Autoencoder/model.71-1.42.h5\n",
            "Epoch 72/100\n",
            "24/24 [==============================] - 1s 41ms/step - loss: 1.4344 - accuracy: 0.5542 - val_loss: 1.4275 - val_accuracy: 0.5594\n",
            "\n",
            "Epoch 00072: saving model to drive/MyDrive/Data/Autoencoder/model.72-1.43.h5\n",
            "Epoch 73/100\n",
            "24/24 [==============================] - 1s 41ms/step - loss: 1.4311 - accuracy: 0.5546 - val_loss: 1.4200 - val_accuracy: 0.5580\n",
            "\n",
            "Epoch 00073: saving model to drive/MyDrive/Data/Autoencoder/model.73-1.42.h5\n",
            "Epoch 74/100\n",
            "24/24 [==============================] - 1s 41ms/step - loss: 1.4283 - accuracy: 0.5550 - val_loss: 1.4224 - val_accuracy: 0.5584\n",
            "\n",
            "Epoch 00074: saving model to drive/MyDrive/Data/Autoencoder/model.74-1.42.h5\n",
            "Epoch 75/100\n",
            "24/24 [==============================] - 1s 42ms/step - loss: 1.4309 - accuracy: 0.5554 - val_loss: 1.4185 - val_accuracy: 0.5580\n",
            "\n",
            "Epoch 00075: saving model to drive/MyDrive/Data/Autoencoder/model.75-1.42.h5\n",
            "Epoch 76/100\n",
            "24/24 [==============================] - 1s 42ms/step - loss: 1.4255 - accuracy: 0.5562 - val_loss: 1.4168 - val_accuracy: 0.5583\n",
            "\n",
            "Epoch 00076: saving model to drive/MyDrive/Data/Autoencoder/model.76-1.42.h5\n",
            "Epoch 77/100\n",
            "24/24 [==============================] - 1s 42ms/step - loss: 1.4231 - accuracy: 0.5564 - val_loss: 1.4153 - val_accuracy: 0.5569\n",
            "\n",
            "Epoch 00077: saving model to drive/MyDrive/Data/Autoencoder/model.77-1.42.h5\n",
            "Epoch 78/100\n",
            "24/24 [==============================] - 1s 41ms/step - loss: 1.4235 - accuracy: 0.5564 - val_loss: 1.4165 - val_accuracy: 0.5555\n",
            "\n",
            "Epoch 00078: saving model to drive/MyDrive/Data/Autoencoder/model.78-1.42.h5\n",
            "Epoch 79/100\n",
            "24/24 [==============================] - 1s 41ms/step - loss: 1.4212 - accuracy: 0.5565 - val_loss: 1.4118 - val_accuracy: 0.5583\n",
            "\n",
            "Epoch 00079: saving model to drive/MyDrive/Data/Autoencoder/model.79-1.41.h5\n",
            "Epoch 80/100\n",
            "24/24 [==============================] - 1s 42ms/step - loss: 1.4226 - accuracy: 0.5574 - val_loss: 1.4181 - val_accuracy: 0.5644\n",
            "\n",
            "Epoch 00080: saving model to drive/MyDrive/Data/Autoencoder/model.80-1.42.h5\n",
            "Epoch 81/100\n",
            "24/24 [==============================] - 1s 42ms/step - loss: 1.4219 - accuracy: 0.5576 - val_loss: 1.4105 - val_accuracy: 0.5590\n",
            "\n",
            "Epoch 00081: saving model to drive/MyDrive/Data/Autoencoder/model.81-1.41.h5\n",
            "Epoch 82/100\n",
            "24/24 [==============================] - 1s 41ms/step - loss: 1.4164 - accuracy: 0.5571 - val_loss: 1.4102 - val_accuracy: 0.5581\n",
            "\n",
            "Epoch 00082: saving model to drive/MyDrive/Data/Autoencoder/model.82-1.41.h5\n",
            "Epoch 83/100\n",
            "24/24 [==============================] - 1s 42ms/step - loss: 1.4162 - accuracy: 0.5571 - val_loss: 1.4080 - val_accuracy: 0.5595\n",
            "\n",
            "Epoch 00083: saving model to drive/MyDrive/Data/Autoencoder/model.83-1.41.h5\n",
            "Epoch 84/100\n",
            "24/24 [==============================] - 1s 41ms/step - loss: 1.4155 - accuracy: 0.5576 - val_loss: 1.4065 - val_accuracy: 0.5590\n",
            "\n",
            "Epoch 00084: saving model to drive/MyDrive/Data/Autoencoder/model.84-1.41.h5\n",
            "Epoch 85/100\n",
            "24/24 [==============================] - 1s 41ms/step - loss: 1.4143 - accuracy: 0.5581 - val_loss: 1.4137 - val_accuracy: 0.5658\n",
            "\n",
            "Epoch 00085: saving model to drive/MyDrive/Data/Autoencoder/model.85-1.41.h5\n",
            "Epoch 86/100\n",
            "24/24 [==============================] - 1s 42ms/step - loss: 1.4132 - accuracy: 0.5587 - val_loss: 1.4049 - val_accuracy: 0.5597\n",
            "\n",
            "Epoch 00086: saving model to drive/MyDrive/Data/Autoencoder/model.86-1.40.h5\n",
            "Epoch 87/100\n",
            "24/24 [==============================] - 1s 43ms/step - loss: 1.4113 - accuracy: 0.5578 - val_loss: 1.4037 - val_accuracy: 0.5602\n",
            "\n",
            "Epoch 00087: saving model to drive/MyDrive/Data/Autoencoder/model.87-1.40.h5\n",
            "Epoch 88/100\n",
            "24/24 [==============================] - 1s 43ms/step - loss: 1.4125 - accuracy: 0.5585 - val_loss: 1.4024 - val_accuracy: 0.5592\n",
            "\n",
            "Epoch 00088: saving model to drive/MyDrive/Data/Autoencoder/model.88-1.40.h5\n",
            "Epoch 89/100\n",
            "24/24 [==============================] - 1s 43ms/step - loss: 1.4094 - accuracy: 0.5583 - val_loss: 1.4014 - val_accuracy: 0.5598\n",
            "\n",
            "Epoch 00089: saving model to drive/MyDrive/Data/Autoencoder/model.89-1.40.h5\n",
            "Epoch 90/100\n",
            "24/24 [==============================] - 1s 42ms/step - loss: 1.4081 - accuracy: 0.5581 - val_loss: 1.4001 - val_accuracy: 0.5590\n",
            "\n",
            "Epoch 00090: saving model to drive/MyDrive/Data/Autoencoder/model.90-1.40.h5\n",
            "Epoch 91/100\n",
            "24/24 [==============================] - 1s 44ms/step - loss: 1.4085 - accuracy: 0.5583 - val_loss: 1.4031 - val_accuracy: 0.5660\n",
            "\n",
            "Epoch 00091: saving model to drive/MyDrive/Data/Autoencoder/model.91-1.40.h5\n",
            "Epoch 92/100\n",
            "24/24 [==============================] - 1s 42ms/step - loss: 1.4094 - accuracy: 0.5599 - val_loss: 1.4021 - val_accuracy: 0.5651\n",
            "\n",
            "Epoch 00092: saving model to drive/MyDrive/Data/Autoencoder/model.92-1.40.h5\n",
            "Epoch 93/100\n",
            "24/24 [==============================] - 1s 43ms/step - loss: 1.4085 - accuracy: 0.5597 - val_loss: 1.4054 - val_accuracy: 0.5658\n",
            "\n",
            "Epoch 00093: saving model to drive/MyDrive/Data/Autoencoder/model.93-1.41.h5\n",
            "Epoch 94/100\n",
            "24/24 [==============================] - 1s 42ms/step - loss: 1.4054 - accuracy: 0.5597 - val_loss: 1.3965 - val_accuracy: 0.5614\n",
            "\n",
            "Epoch 00094: saving model to drive/MyDrive/Data/Autoencoder/model.94-1.40.h5\n",
            "Epoch 95/100\n",
            "24/24 [==============================] - 1s 43ms/step - loss: 1.4040 - accuracy: 0.5590 - val_loss: 1.3976 - val_accuracy: 0.5600\n",
            "\n",
            "Epoch 00095: saving model to drive/MyDrive/Data/Autoencoder/model.95-1.40.h5\n",
            "Epoch 96/100\n",
            "24/24 [==============================] - 1s 42ms/step - loss: 1.4030 - accuracy: 0.5591 - val_loss: 1.3956 - val_accuracy: 0.5644\n",
            "\n",
            "Epoch 00096: saving model to drive/MyDrive/Data/Autoencoder/model.96-1.40.h5\n",
            "Epoch 97/100\n",
            "24/24 [==============================] - 1s 45ms/step - loss: 1.4035 - accuracy: 0.5604 - val_loss: 1.3947 - val_accuracy: 0.5611\n",
            "\n",
            "Epoch 00097: saving model to drive/MyDrive/Data/Autoencoder/model.97-1.39.h5\n",
            "Epoch 98/100\n",
            "24/24 [==============================] - 1s 41ms/step - loss: 1.4290 - accuracy: 0.5560 - val_loss: 1.5090 - val_accuracy: 0.5494\n",
            "\n",
            "Epoch 00098: saving model to drive/MyDrive/Data/Autoencoder/model.98-1.51.h5\n",
            "Epoch 99/100\n",
            "24/24 [==============================] - 1s 44ms/step - loss: 1.4528 - accuracy: 0.5499 - val_loss: 1.4183 - val_accuracy: 0.5601\n",
            "\n",
            "Epoch 00099: saving model to drive/MyDrive/Data/Autoencoder/model.99-1.42.h5\n",
            "Epoch 100/100\n",
            "24/24 [==============================] - 1s 42ms/step - loss: 1.4215 - accuracy: 0.5583 - val_loss: 1.4018 - val_accuracy: 0.5601\n",
            "\n",
            "Epoch 00100: saving model to drive/MyDrive/Data/Autoencoder/model.100-1.40.h5\n"
          ],
          "name": "stdout"
        }
      ]
    },
    {
      "cell_type": "markdown",
      "metadata": {
        "id": "GtD_L9EQkK1t"
      },
      "source": [
        "**Plotting training and validation loss to decide the epoch number after which weights should be taken**"
      ]
    },
    {
      "cell_type": "code",
      "metadata": {
        "colab": {
          "base_uri": "https://localhost:8080/",
          "height": 177
        },
        "id": "MUUz7zAKiINM",
        "outputId": "8e560cbf-c7bb-4662-b7db-e725d86a0360"
      },
      "source": [
        "import matplotlib.pyplot as plt\n",
        "loss = history.history['loss']\n",
        "val_loss = history.history['val_loss']\n",
        "plt.subplot(2, 1, 2)\n",
        "plt.plot(loss, label='Training Loss')\n",
        "plt.plot(val_loss, label='Validation Loss')\n",
        "plt.legend(loc='upper right')\n",
        "plt.title('Training and Validation Loss')\n",
        "plt.xlabel('epoch')\n",
        "plt.show()"
      ],
      "execution_count": null,
      "outputs": [
        {
          "output_type": "display_data",
          "data": {
            "image/png": "[encoded data removed]",
            "text/plain": [
              "<Figure size 432x288 with 1 Axes>"
            ]
          },
          "metadata": {
            "tags": [],
            "needs_background": "light"
          }
        }
      ]
    },
    {
      "cell_type": "markdown",
      "metadata": {
        "id": "Pg5Za077jnSA"
      },
      "source": [
        "**Selecting the weights of 97th epoch**"
      ]
    },
    {
      "cell_type": "code",
      "metadata": {
        "id": "YSYI4gRkjvdN"
      },
      "source": [
        "model.load_weights('drive/MyDrive/Data/Autoencoder/model.97-1.39.h5')"
      ],
      "execution_count": null,
      "outputs": []
    },
    {
      "cell_type": "markdown",
      "metadata": {
        "id": "oImyPa02kg80"
      },
      "source": [
        "**Final Embeddings egenerated**"
      ]
    },
    {
      "cell_type": "code",
      "metadata": {
        "id": "vo5XIRcm477m"
      },
      "source": [
        "embeddings = encoder_model.predict(pad_seqs)\n",
        "embeddings_val=encoder_model.predict(pad_seqs_val)"
      ],
      "execution_count": null,
      "outputs": []
    },
    {
      "cell_type": "markdown",
      "metadata": {
        "id": "Rz90X3EMkqRt"
      },
      "source": [
        "# **Evaluation**"
      ]
    },
    {
      "cell_type": "markdown",
      "metadata": {
        "id": "5I-JodqRkzlJ"
      },
      "source": [
        "1. We will train a classifier in keras to predict the output of each sequence embedding as pass/fail.\n",
        "2. We will predict our accuracy and F1 score on test set to measure the efficeincy of our embeddings"
      ]
    },
    {
      "cell_type": "code",
      "metadata": {
        "colab": {
          "base_uri": "https://localhost:8080/"
        },
        "id": "PmBC0IPnrdNS",
        "outputId": "883b8afd-e7c4-4a22-f112-afb084c957be"
      },
      "source": [
        "classifier = Sequential()\n",
        "classifier.add(Dense(64, input_shape = (embeddings.shape[1],))) \n",
        "classifier.add(Activation('relu'))\n",
        "classifier.add(Dropout(0.5))\n",
        "classifier.add(Dense(32))\n",
        "classifier.add(Activation('relu'))\n",
        "classifier.add(Dropout(0.5))\n",
        "classifier.add(Dense(1))\n",
        "classifier.add(Activation('sigmoid'))\n",
        "classifier.compile(loss='binary_crossentropy', optimizer='adam', metrics=['accuracy'])\n",
        "classifier.summary()"
      ],
      "execution_count": null,
      "outputs": [
        {
          "output_type": "stream",
          "text": [
            "Model: \"sequential_1\"\n",
            "_________________________________________________________________\n",
            "Layer (type)                 Output Shape              Param #   \n",
            "=================================================================\n",
            "dense_6 (Dense)              (None, 64)                448       \n",
            "_________________________________________________________________\n",
            "activation_3 (Activation)    (None, 64)                0         \n",
            "_________________________________________________________________\n",
            "dropout_2 (Dropout)          (None, 64)                0         \n",
            "_________________________________________________________________\n",
            "dense_7 (Dense)              (None, 32)                2080      \n",
            "_________________________________________________________________\n",
            "activation_4 (Activation)    (None, 32)                0         \n",
            "_________________________________________________________________\n",
            "dropout_3 (Dropout)          (None, 32)                0         \n",
            "_________________________________________________________________\n",
            "dense_8 (Dense)              (None, 1)                 33        \n",
            "_________________________________________________________________\n",
            "activation_5 (Activation)    (None, 1)                 0         \n",
            "=================================================================\n",
            "Total params: 2,561\n",
            "Trainable params: 2,561\n",
            "Non-trainable params: 0\n",
            "_________________________________________________________________\n"
          ],
          "name": "stdout"
        }
      ]
    },
    {
      "cell_type": "code",
      "metadata": {
        "colab": {
          "base_uri": "https://localhost:8080/"
        },
        "id": "4tv5MzpWlIJx",
        "outputId": "10a53456-8113-4466-e6ce-49e144494099"
      },
      "source": [
        "model_checkpoint_callback = ModelCheckpoint(filepath='drive/MyDrive/Data/Autoencoder/model.{epoch:02d}-{val_loss:.2f}.h5',\n",
        "                                            save_weights_only = True,\n",
        "                                            period = 1,\n",
        "                                            verbose = 1,\n",
        "                                            save_best_only=False)\n",
        "history=classifier.fit(embeddings, y_train ,validation_data=(embeddings_val,y_val),batch_size=128, epochs=30,callbacks=[model_checkpoint_callback])"
      ],
      "execution_count": null,
      "outputs": [
        {
          "output_type": "stream",
          "text": [
            "WARNING:tensorflow:`period` argument is deprecated. Please use `save_freq` to specify the frequency in number of batches seen.\n",
            "Epoch 1/30\n",
            "24/24 [==============================] - 1s 14ms/step - loss: 1.2398 - accuracy: 0.5720 - val_loss: 0.7576 - val_accuracy: 0.7762\n",
            "\n",
            "Epoch 00001: saving model to drive/MyDrive/Data/Autoencoder/model.01-0.76.h5\n",
            "Epoch 2/30\n",
            "24/24 [==============================] - 0s 5ms/step - loss: 0.8884 - accuracy: 0.6564 - val_loss: 0.5641 - val_accuracy: 0.7762\n",
            "\n",
            "Epoch 00002: saving model to drive/MyDrive/Data/Autoencoder/model.02-0.56.h5\n",
            "Epoch 3/30\n",
            "24/24 [==============================] - 0s 5ms/step - loss: 0.7567 - accuracy: 0.6499 - val_loss: 0.5518 - val_accuracy: 0.7762\n",
            "\n",
            "Epoch 00003: saving model to drive/MyDrive/Data/Autoencoder/model.03-0.55.h5\n",
            "Epoch 4/30\n",
            "24/24 [==============================] - 0s 5ms/step - loss: 0.6847 - accuracy: 0.6780 - val_loss: 0.5546 - val_accuracy: 0.7762\n",
            "\n",
            "Epoch 00004: saving model to drive/MyDrive/Data/Autoencoder/model.04-0.55.h5\n",
            "Epoch 5/30\n",
            "24/24 [==============================] - 0s 5ms/step - loss: 0.6546 - accuracy: 0.6983 - val_loss: 0.5628 - val_accuracy: 0.7762\n",
            "\n",
            "Epoch 00005: saving model to drive/MyDrive/Data/Autoencoder/model.05-0.56.h5\n",
            "Epoch 6/30\n",
            "24/24 [==============================] - 0s 4ms/step - loss: 0.6241 - accuracy: 0.7156 - val_loss: 0.5641 - val_accuracy: 0.7762\n",
            "\n",
            "Epoch 00006: saving model to drive/MyDrive/Data/Autoencoder/model.06-0.56.h5\n",
            "Epoch 7/30\n",
            "24/24 [==============================] - 0s 5ms/step - loss: 0.6236 - accuracy: 0.7189 - val_loss: 0.5656 - val_accuracy: 0.7762\n",
            "\n",
            "Epoch 00007: saving model to drive/MyDrive/Data/Autoencoder/model.07-0.57.h5\n",
            "Epoch 8/30\n",
            "24/24 [==============================] - 0s 4ms/step - loss: 0.6032 - accuracy: 0.7359 - val_loss: 0.5668 - val_accuracy: 0.7762\n",
            "\n",
            "Epoch 00008: saving model to drive/MyDrive/Data/Autoencoder/model.08-0.57.h5\n",
            "Epoch 9/30\n",
            "24/24 [==============================] - 0s 4ms/step - loss: 0.6024 - accuracy: 0.7330 - val_loss: 0.5656 - val_accuracy: 0.7762\n",
            "\n",
            "Epoch 00009: saving model to drive/MyDrive/Data/Autoencoder/model.09-0.57.h5\n",
            "Epoch 10/30\n",
            "24/24 [==============================] - 0s 4ms/step - loss: 0.5919 - accuracy: 0.7493 - val_loss: 0.5629 - val_accuracy: 0.7762\n",
            "\n",
            "Epoch 00010: saving model to drive/MyDrive/Data/Autoencoder/model.10-0.56.h5\n",
            "Epoch 11/30\n",
            "24/24 [==============================] - 0s 4ms/step - loss: 0.5939 - accuracy: 0.7454 - val_loss: 0.5601 - val_accuracy: 0.7762\n",
            "\n",
            "Epoch 00011: saving model to drive/MyDrive/Data/Autoencoder/model.11-0.56.h5\n",
            "Epoch 12/30\n",
            "24/24 [==============================] - 0s 5ms/step - loss: 0.5842 - accuracy: 0.7562 - val_loss: 0.5671 - val_accuracy: 0.7762\n",
            "\n",
            "Epoch 00012: saving model to drive/MyDrive/Data/Autoencoder/model.12-0.57.h5\n",
            "Epoch 13/30\n",
            "24/24 [==============================] - 0s 5ms/step - loss: 0.5844 - accuracy: 0.7503 - val_loss: 0.5656 - val_accuracy: 0.7762\n",
            "\n",
            "Epoch 00013: saving model to drive/MyDrive/Data/Autoencoder/model.13-0.57.h5\n",
            "Epoch 14/30\n",
            "24/24 [==============================] - 0s 4ms/step - loss: 0.5722 - accuracy: 0.7552 - val_loss: 0.5609 - val_accuracy: 0.7762\n",
            "\n",
            "Epoch 00014: saving model to drive/MyDrive/Data/Autoencoder/model.14-0.56.h5\n",
            "Epoch 15/30\n",
            "24/24 [==============================] - 0s 5ms/step - loss: 0.5732 - accuracy: 0.7575 - val_loss: 0.5584 - val_accuracy: 0.7762\n",
            "\n",
            "Epoch 00015: saving model to drive/MyDrive/Data/Autoencoder/model.15-0.56.h5\n",
            "Epoch 16/30\n",
            "24/24 [==============================] - 0s 4ms/step - loss: 0.5834 - accuracy: 0.7569 - val_loss: 0.5615 - val_accuracy: 0.7762\n",
            "\n",
            "Epoch 00016: saving model to drive/MyDrive/Data/Autoencoder/model.16-0.56.h5\n",
            "Epoch 17/30\n",
            "24/24 [==============================] - 0s 5ms/step - loss: 0.5785 - accuracy: 0.7543 - val_loss: 0.5590 - val_accuracy: 0.7762\n",
            "\n",
            "Epoch 00017: saving model to drive/MyDrive/Data/Autoencoder/model.17-0.56.h5\n",
            "Epoch 18/30\n",
            "24/24 [==============================] - 0s 5ms/step - loss: 0.5737 - accuracy: 0.7579 - val_loss: 0.5587 - val_accuracy: 0.7762\n",
            "\n",
            "Epoch 00018: saving model to drive/MyDrive/Data/Autoencoder/model.18-0.56.h5\n",
            "Epoch 19/30\n",
            "24/24 [==============================] - 0s 6ms/step - loss: 0.5794 - accuracy: 0.7575 - val_loss: 0.5548 - val_accuracy: 0.7762\n",
            "\n",
            "Epoch 00019: saving model to drive/MyDrive/Data/Autoencoder/model.19-0.55.h5\n",
            "Epoch 20/30\n",
            "24/24 [==============================] - 0s 5ms/step - loss: 0.5749 - accuracy: 0.7572 - val_loss: 0.5568 - val_accuracy: 0.7762\n",
            "\n",
            "Epoch 00020: saving model to drive/MyDrive/Data/Autoencoder/model.20-0.56.h5\n",
            "Epoch 21/30\n",
            "24/24 [==============================] - 0s 5ms/step - loss: 0.5722 - accuracy: 0.7559 - val_loss: 0.5530 - val_accuracy: 0.7762\n",
            "\n",
            "Epoch 00021: saving model to drive/MyDrive/Data/Autoencoder/model.21-0.55.h5\n",
            "Epoch 22/30\n",
            "24/24 [==============================] - 0s 4ms/step - loss: 0.5770 - accuracy: 0.7575 - val_loss: 0.5580 - val_accuracy: 0.7762\n",
            "\n",
            "Epoch 00022: saving model to drive/MyDrive/Data/Autoencoder/model.22-0.56.h5\n",
            "Epoch 23/30\n",
            "24/24 [==============================] - 0s 6ms/step - loss: 0.5717 - accuracy: 0.7579 - val_loss: 0.5548 - val_accuracy: 0.7762\n",
            "\n",
            "Epoch 00023: saving model to drive/MyDrive/Data/Autoencoder/model.23-0.55.h5\n",
            "Epoch 24/30\n",
            "24/24 [==============================] - 0s 5ms/step - loss: 0.5730 - accuracy: 0.7585 - val_loss: 0.5503 - val_accuracy: 0.7762\n",
            "\n",
            "Epoch 00024: saving model to drive/MyDrive/Data/Autoencoder/model.24-0.55.h5\n",
            "Epoch 25/30\n",
            "24/24 [==============================] - 0s 4ms/step - loss: 0.5698 - accuracy: 0.7595 - val_loss: 0.5513 - val_accuracy: 0.7762\n",
            "\n",
            "Epoch 00025: saving model to drive/MyDrive/Data/Autoencoder/model.25-0.55.h5\n",
            "Epoch 26/30\n",
            "24/24 [==============================] - 0s 3ms/step - loss: 0.5644 - accuracy: 0.7595 - val_loss: 0.5490 - val_accuracy: 0.7762\n",
            "\n",
            "Epoch 00026: saving model to drive/MyDrive/Data/Autoencoder/model.26-0.55.h5\n",
            "Epoch 27/30\n",
            "24/24 [==============================] - 0s 4ms/step - loss: 0.5729 - accuracy: 0.7588 - val_loss: 0.5493 - val_accuracy: 0.7762\n",
            "\n",
            "Epoch 00027: saving model to drive/MyDrive/Data/Autoencoder/model.27-0.55.h5\n",
            "Epoch 28/30\n",
            "24/24 [==============================] - 0s 3ms/step - loss: 0.5654 - accuracy: 0.7588 - val_loss: 0.5498 - val_accuracy: 0.7762\n",
            "\n",
            "Epoch 00028: saving model to drive/MyDrive/Data/Autoencoder/model.28-0.55.h5\n",
            "Epoch 29/30\n",
            "24/24 [==============================] - 0s 5ms/step - loss: 0.5665 - accuracy: 0.7592 - val_loss: 0.5468 - val_accuracy: 0.7762\n",
            "\n",
            "Epoch 00029: saving model to drive/MyDrive/Data/Autoencoder/model.29-0.55.h5\n",
            "Epoch 30/30\n",
            "24/24 [==============================] - 0s 6ms/step - loss: 0.5650 - accuracy: 0.7595 - val_loss: 0.5457 - val_accuracy: 0.7762\n",
            "\n",
            "Epoch 00030: saving model to drive/MyDrive/Data/Autoencoder/model.30-0.55.h5\n"
          ],
          "name": "stdout"
        }
      ]
    },
    {
      "cell_type": "markdown",
      "metadata": {
        "id": "Ig4n9eb3nOkN"
      },
      "source": [
        "**Plotting training and validation loss to decide the epoch number after which weights should be taken**"
      ]
    },
    {
      "cell_type": "code",
      "metadata": {
        "colab": {
          "base_uri": "https://localhost:8080/",
          "height": 177
        },
        "id": "asIAZ20lmS2K",
        "outputId": "076d7e45-c484-41c1-d189-ac1406dce043"
      },
      "source": [
        "loss = history.history['loss']\n",
        "val_loss = history.history['val_loss']\n",
        "plt.subplot(2, 1, 2)\n",
        "plt.plot(loss, label='Training Loss')\n",
        "plt.plot(val_loss, label='Validation Loss')\n",
        "plt.legend(loc='upper right')\n",
        "plt.title('Training and Validation Loss')\n",
        "plt.xlabel('epoch')\n",
        "plt.show()"
      ],
      "execution_count": null,
      "outputs": [
        {
          "output_type": "display_data",
          "data": {
            "image/png": "[encoded data removed]",
            "text/plain": [
              "<Figure size 432x288 with 1 Axes>"
            ]
          },
          "metadata": {
            "tags": [],
            "needs_background": "light"
          }
        }
      ]
    },
    {
      "cell_type": "markdown",
      "metadata": {
        "id": "g-z_qFdqnUeo"
      },
      "source": [
        "**Deciding 21 as epoch number**"
      ]
    },
    {
      "cell_type": "code",
      "metadata": {
        "id": "SkxdmVQ2mbfr"
      },
      "source": [
        "classifier.load_weights('drive/MyDrive/Data/Autoencoder/model.21-0.55.h5')"
      ],
      "execution_count": null,
      "outputs": []
    },
    {
      "cell_type": "markdown",
      "metadata": {
        "id": "O7Bawcq2naQ7"
      },
      "source": [
        "**Predicting the test score**"
      ]
    },
    {
      "cell_type": "code",
      "metadata": {
        "id": "zEvh4ozbqOqA"
      },
      "source": [
        "seqs_test = tokenizer.texts_to_sequences(x_test)\n",
        "pad_seqs_test = tf.keras.preprocessing.sequence.pad_sequences(seqs_test, 30)\n",
        "embeddings_test = encoder_model.predict(pad_seqs_test)"
      ],
      "execution_count": null,
      "outputs": []
    },
    {
      "cell_type": "code",
      "metadata": {
        "id": "kcc4D4dgszL0"
      },
      "source": [
        "predictions=classifier.predict(embeddings_test)\n",
        "rounded=[round(x[0]) for x in predictions]"
      ],
      "execution_count": null,
      "outputs": []
    },
    {
      "cell_type": "code",
      "metadata": {
        "colab": {
          "base_uri": "https://localhost:8080/"
        },
        "id": "sVuYSqJrtIxf",
        "outputId": "0c2ce632-decc-4d55-8f72-16c58696b63d"
      },
      "source": [
        "acc=accuracy_score(rounded,y_test)\n",
        "f1=f1_score(y_test, rounded)\n",
        "print(\"Accuracy is \",acc)\n",
        "print(\"f1 score is \",f1)"
      ],
      "execution_count": null,
      "outputs": [
        {
          "output_type": "stream",
          "text": [
            "Accuracy is  0.7643979057591623\n",
            "f1 score is  0.8664688427299704\n"
          ],
          "name": "stdout"
        }
      ]
    }
  ]
}